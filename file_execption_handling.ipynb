{
  "nbformat": 4,
  "nbformat_minor": 0,
  "metadata": {
    "colab": {
      "provenance": [],
      "authorship_tag": "ABX9TyP7T17kvYyjjdjSbY3ybs8v",
      "include_colab_link": true
    },
    "kernelspec": {
      "name": "python3",
      "display_name": "Python 3"
    },
    "language_info": {
      "name": "python"
    }
  },
  "cells": [
    {
      "cell_type": "markdown",
      "metadata": {
        "id": "view-in-github",
        "colab_type": "text"
      },
      "source": [
        "<a href=\"https://colab.research.google.com/github/sahilhasmi/file_and_exeception_handling_assignment.ipynb/blob/main/file_execption_handling.ipynb\" target=\"_parent\"><img src=\"https://colab.research.google.com/assets/colab-badge.svg\" alt=\"Open In Colab\"/></a>"
      ]
    },
    {
      "cell_type": "code",
      "source": [
        "## Discuss the scenarios where multithreading is preferable to multiprocessing and scenarios where multiprocessing is a better choice.\n",
        "\n",
        "   #>> multithreading is preferable to multiprocessing:\n",
        "\n",
        "      #>  multitheeading works on one processor with multiple thread/unit and it runs concurrently\n",
        "\n",
        "      #>  for one specific project the multithreading is better than multiprocessing.\n",
        "\n",
        "      #>  it has shared space memories .\n",
        "\n",
        "      #>  multithreading works sequentially while multiprocessing gives output in disorder because it has multiple processors\n",
        "\n",
        "  #>> where multiprocessing is better choice :\n",
        "\n",
        "      #>  if you have multiple separated projects because it has owned space memories for each processors.\n",
        "\n",
        "      #>  when you work on multiprocessing so it allows to you  to run the code truly parallel\n",
        "\n",
        "      #>  it isolats  the resources from others.\n"
      ],
      "metadata": {
        "id": "Ql4dfvAxXClq"
      },
      "execution_count": 1,
      "outputs": []
    },
    {
      "cell_type": "code",
      "source": [
        "## Describe what a process pool is and how it helps in managing multiple processes efficiently.\n",
        "\n",
        "   #>> in multiprocessing process pool is a technique to short the code\n",
        "   #>> it gives time benefit\n"
      ],
      "metadata": {
        "id": "tkI2RT_FXCaI"
      },
      "execution_count": 2,
      "outputs": []
    },
    {
      "cell_type": "code",
      "source": [
        "## Explain what multiprocessing is and why it is used in Python programs.\n",
        "\n",
        "   #>> multiprocessing :\n",
        "\n",
        "                     #> multiprocessing is a python programe where code/process runs parallel .\n",
        "                     #> in multiprocessing python uses  multiple processor for multiple code.\n",
        "                     #> it processes multiple code at one time\n",
        "  #>> why use it :\n",
        "\n",
        "               #> it use in python for time saving it runs multiple code at one time\n",
        "               #> it make the code more efficient and short .\n",
        "               #> it is a option for multithreading because multithreading works with one processor.\n",
        "\n"
      ],
      "metadata": {
        "id": "WdRFDR0sWwTu"
      },
      "execution_count": 3,
      "outputs": []
    },
    {
      "cell_type": "code",
      "source": [
        "##Write a Python program using multithreading where one thread adds numbers to a list, and another\n",
        "##thread removes numbers from the list. Implement a mechanism to avoid race conditions using\n",
        "##threading.Lock.\n",
        "\n",
        "import threading\n",
        "import time\n",
        "\n",
        "start = time.perf_counter()\n",
        "\n",
        "list_lock = threading.Lock()\n",
        "list_num = []\n",
        "def add_num():\n",
        "  for i in range(5):\n",
        "    time.sleep(1)\n",
        "    with list_lock  :\n",
        "      list_num.append(i)\n",
        "      print(f\"adds num {i } and current list is {list_num }\")\n",
        "\n",
        "def remove_num():\n",
        "  for _ in range(5):\n",
        "    time.sleep(1.5)\n",
        "    with list_lock  :\n",
        "      removed = list_num.pop(0)\n",
        "      print(f\"removed num is {removed } and current list is {list_num }\")\n",
        "\n",
        "t1 = threading.Thread(target = add_num )\n",
        "t2 = threading.Thread(target = remove_num  )\n",
        "t1.start()\n",
        "t2.start()\n",
        "\n",
        "t1.join()\n",
        "t2.join()\n",
        "\n",
        "end = time.perf_counter()\n",
        "print(f\"code took {round(end-start , 2 )} sec \")\n"
      ],
      "metadata": {
        "id": "eklFqUkoWwQk",
        "colab": {
          "base_uri": "https://localhost:8080/"
        },
        "outputId": "bff0c2bf-1110-4889-b4f8-a2c2ee58150b"
      },
      "execution_count": 4,
      "outputs": [
        {
          "output_type": "stream",
          "name": "stdout",
          "text": [
            "adds num 0 and current list is [0]\n",
            "removed num is 0 and current list is []\n",
            "adds num 1 and current list is [1]\n",
            "adds num 2 and current list is [1, 2]\n",
            "removed num is 1 and current list is [2]\n",
            "adds num 3 and current list is [2, 3]\n",
            "removed num is 2 and current list is [3]\n",
            "adds num 4 and current list is [3, 4]\n",
            "removed num is 3 and current list is [4]\n",
            "removed num is 4 and current list is []\n",
            "code took 7.5 sec \n"
          ]
        }
      ]
    },
    {
      "cell_type": "code",
      "source": [
        "## Describe the methods and tools available in Python for safely sharing data between threads and processes.\n",
        "\n",
        "  #> tools availble in python for threads :- \"threading.lock \"\n",
        "\n",
        "                                        #>> threading.Lock uses in for safely data sharing\n",
        "                                        #>> it allows to when one thread in process then next thread will be nutral\n",
        "                                        #>> with Lock machanism threads will have executed one by one\n",
        "\n",
        "   #> tools availble in python for processes :- \"process.Queue\"\n",
        "\n",
        "                                        #>> in multiprocessing Queue allows to safely data sharing\n",
        "                                        #>> .put(data ) it stores data\n",
        "                                        #>> .get(data ) by this technique we got the  data\n",
        "\n",
        "\n",
        "  ### :- we have multiple tools in python but in lecture explained this method only\n"
      ],
      "metadata": {
        "id": "hz1fG7kaWwE2"
      },
      "execution_count": 5,
      "outputs": []
    },
    {
      "cell_type": "code",
      "source": [
        "## Discuss why it’s crucial to handle exceptions in concurrent programs and the techniques available for doing so.\n",
        "\n",
        "          #> for catching error/debug/bug level/ and save the programe to crash/corrupt/data loss we have used it in concurrent programe\n",
        "\n",
        "  #>> we have multiple tools to handling exeception  :-\n",
        "\n",
        "                                           #> useing \"try execept\" block in each method\n",
        "\n",
        "\n",
        "                                           #> using logging to catch the debugg level and which line has error\n",
        "\n",
        "\n"
      ],
      "metadata": {
        "id": "MQktKFSwWYLG"
      },
      "execution_count": 6,
      "outputs": []
    },
    {
      "cell_type": "code",
      "source": [
        "##Create a program that uses a thread pool to calculate the factorial of numbers from 1 to 10 concurrently.\n",
        "##Use concurrent.futures.ThreadPoolExecutor to manage the threads.\n",
        "\n",
        "import threading\n",
        "import concurrent.futures\n",
        "import math\n",
        "\n",
        "def factorial(n):\n",
        "  result = math.factorial(n)\n",
        "  print(f\"factorial of {n } is {result }\")\n",
        "  return result\n",
        "\n",
        "fact_num = list(range(1,11))\n",
        "\n",
        "with concurrent.futures.ThreadPoolExecutor() as executor :\n",
        "  executor.map( factorial,fact_num)\n",
        "\n",
        "\n"
      ],
      "metadata": {
        "id": "UDYnPkK2WYe4",
        "colab": {
          "base_uri": "https://localhost:8080/"
        },
        "outputId": "ec51dc9d-f83a-4957-ecd1-61da84f356db"
      },
      "execution_count": 7,
      "outputs": [
        {
          "output_type": "stream",
          "name": "stdout",
          "text": [
            "factorial of 1 is 1\n",
            "factorial of 2 is 2\n",
            "factorial of 3 is 6\n",
            "factorial of 4 is 24\n",
            "factorial of 5 is 120\n",
            "factorial of 6 is 720\n",
            "factorial of 7 is 5040\n",
            "factorial of 8 is 40320\n",
            "factorial of 9 is 362880\n",
            "factorial of 10 is 3628800\n"
          ]
        }
      ]
    },
    {
      "cell_type": "code",
      "source": [
        "##Create a Python program that uses multiprocessing.Pool to compute the square of numbers from 1 to 10 in\n",
        "##parallel. Measure the time taken to perform this computation using a pool of different sizes (e.g., 2, 4, 8 processes).\n",
        "\n",
        "\n",
        "import multiprocessing\n",
        "import time\n",
        "start = time.perf_counter()\n",
        "def squar(n ):\n",
        "  result = n*n\n",
        "  print(f\"square of {n } is {result }\")\n",
        "\n",
        "num = list(range(1,11))\n",
        "with multiprocessing.Pool() as pool:\n",
        "  pool.map(squar,num)\n",
        "end = time.perf_counter()\n",
        "print(f\"the time of computation is {round(end -start ,2 )} sec \")\n",
        "\n"
      ],
      "metadata": {
        "id": "d19HLSbyWYtc",
        "colab": {
          "base_uri": "https://localhost:8080/"
        },
        "outputId": "5db0f7e6-b3a9-4702-cb4d-8ad9531a94f2"
      },
      "execution_count": 8,
      "outputs": [
        {
          "output_type": "stream",
          "name": "stdout",
          "text": [
            "square of 1 is 1\n",
            "square of 2 is 4\n",
            "square of 5 is 25square of 3 is 9\n",
            "square of 6 is 36\n",
            "\n",
            "square of 7 is 49\n",
            "square of 4 is 16\n",
            "square of 9 is 81\n",
            "square of 8 is 64square of 10 is 100\n",
            "\n",
            "the time of computation is 0.09 sec \n"
          ]
        }
      ]
    },
    {
      "cell_type": "code",
      "source": [],
      "metadata": {
        "id": "-CCQiAqZWaCt"
      },
      "execution_count": null,
      "outputs": []
    },
    {
      "cell_type": "code",
      "source": [],
      "metadata": {
        "id": "1H0sN2pMWaTE"
      },
      "execution_count": null,
      "outputs": []
    },
    {
      "cell_type": "code",
      "source": [],
      "metadata": {
        "id": "QE6Hz_8xWaii"
      },
      "execution_count": null,
      "outputs": []
    },
    {
      "cell_type": "code",
      "source": [],
      "metadata": {
        "id": "J7Kkue9CWaw7"
      },
      "execution_count": null,
      "outputs": []
    },
    {
      "cell_type": "code",
      "source": [],
      "metadata": {
        "id": "Jtlz303mWbdg"
      },
      "execution_count": null,
      "outputs": []
    },
    {
      "cell_type": "code",
      "source": [],
      "metadata": {
        "id": "vCwgrPk1Wbww"
      },
      "execution_count": null,
      "outputs": []
    },
    {
      "cell_type": "code",
      "source": [],
      "metadata": {
        "id": "6jNGM3WFWcEX"
      },
      "execution_count": null,
      "outputs": []
    },
    {
      "cell_type": "code",
      "source": [],
      "metadata": {
        "id": "glr-4lBLWcV0"
      },
      "execution_count": null,
      "outputs": []
    },
    {
      "cell_type": "code",
      "source": [],
      "metadata": {
        "id": "A-g98CovWcnQ"
      },
      "execution_count": null,
      "outputs": []
    }
  ]
}